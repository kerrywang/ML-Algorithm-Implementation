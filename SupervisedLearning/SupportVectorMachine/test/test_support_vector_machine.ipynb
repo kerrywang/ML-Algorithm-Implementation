{
 "cells": [
  {
   "cell_type": "code",
   "execution_count": 90,
   "metadata": {},
   "outputs": [],
   "source": [
    "import numpy as np\n",
    "from sklearn.datasets import load_iris"
   ]
  },
  {
   "cell_type": "code",
   "execution_count": 91,
   "metadata": {},
   "outputs": [],
   "source": [
    "import sys\n",
    "sys.path.append(\"../../../\")"
   ]
  },
  {
   "cell_type": "code",
   "execution_count": 92,
   "metadata": {},
   "outputs": [],
   "source": [
    "%matplotlib inline\n",
    "import matplotlib.pyplot as plt"
   ]
  },
  {
   "cell_type": "code",
   "execution_count": 93,
   "metadata": {},
   "outputs": [],
   "source": [
    "from SupervisedLearning.SupportVectorMachine.support_vector_machine import SupportVectorMachine"
   ]
  },
  {
   "cell_type": "code",
   "execution_count": 94,
   "metadata": {},
   "outputs": [],
   "source": [
    "class DatasetConfig:\n",
    "    def __init__(self, data_content, data_label, feature_name=None, label_name=None):\n",
    "        self.data_content = data_content\n",
    "        self.data_label = data_label\n",
    "        self.feature_name = feature_name\n",
    "        self.label_name = label_name\n",
    "    "
   ]
  },
  {
   "cell_type": "code",
   "execution_count": 95,
   "metadata": {},
   "outputs": [],
   "source": [
    "def get_non_linearly_separable_dataset():\n",
    "    # 1d dataset (Obviously not linearly seperable)\n",
    "    X = np.array([-4, -3, -2, -1, 0, 1, 2, 3, 4]).reshape((-1, 1))\n",
    "    y = np.array([0, 0, 1, 1, 1, 1, 1, 0, 0]).reshape((-1, 1))\n",
    "    return DatasetConfig(X, y, np.array([\"X Label\", \"None\"]), np.array([\"0\", \"1\"]).reshape((-1, 1)))\n",
    "\n",
    "def get_linearly_separable_dataset():\n",
    "    data = load_iris()\n",
    "    selected_features_idx = np.array([2, 3])\n",
    "    selected_class_idx = np.array([0, 1])\n",
    "    \n",
    "    selected_feature_names = np.array(data.feature_names)[selected_features_idx]\n",
    "    selected_target_names = data.target_names[selected_class_idx]\n",
    "    \n",
    "    interested_data_idx = np.isin(data.target, selected_class_idx)\n",
    "    \n",
    "    data_label = data.target[interested_data_idx]\n",
    "    data_content = data.data[interested_data_idx][:, selected_features_idx]\n",
    "    return DatasetConfig(data_content, data_label, selected_feature_names, selected_target_names)"
   ]
  },
  {
   "cell_type": "code",
   "execution_count": 96,
   "metadata": {},
   "outputs": [],
   "source": [
    "def plot_feature(dataset):\n",
    "    if dataset.data_content.shape[1] == 1:\n",
    "        print (dataset.data_content.shape)\n",
    "        plt.scatter(dataset.data_content, np.zeros_like(dataset.data_content) , c=dataset.data_label)\n",
    "    elif dataset.data_content.shape[1] == 2:\n",
    "        plt.scatter(dataset.data_content[:, 0], dataset.data_content[:, 1] , c=dataset.data_label)\n",
    "    else:\n",
    "        raise ValueError(\"Not supported plotting features larger than 2\")"
   ]
  },
  {
   "cell_type": "code",
   "execution_count": 97,
   "metadata": {},
   "outputs": [
    {
     "data": {
      "image/png": "[encoded data removed]",
      "text/plain": [
       "<Figure size 432x288 with 1 Axes>"
      ]
     },
     "metadata": {
      "needs_background": "light"
     },
     "output_type": "display_data"
    }
   ],
   "source": [
    "plot_feature(get_linearly_separable_dataset())"
   ]
  },
  {
   "cell_type": "code",
   "execution_count": 98,
   "metadata": {},
   "outputs": [
    {
     "name": "stdout",
     "output_type": "stream",
     "text": [
      "(9, 1)\n"
     ]
    },
    {
     "data": {
      "image/png": "[encoded data removed]",
      "text/plain": [
       "<Figure size 432x288 with 1 Axes>"
      ]
     },
     "metadata": {
      "needs_background": "light"
     },
     "output_type": "display_data"
    }
   ],
   "source": [
    "plot_feature(get_non_linearly_separable_dataset())"
   ]
  },
  {
   "cell_type": "code",
   "execution_count": null,
   "metadata": {},
   "outputs": [],
   "source": []
  }
 ],
 "metadata": {
  "kernelspec": {
   "display_name": "Python 3",
   "language": "python",
   "name": "python3"
  },
  "language_info": {
   "codemirror_mode": {
    "name": "ipython",
    "version": 3
   },
   "file_extension": ".py",
   "mimetype": "text/x-python",
   "name": "python",
   "nbconvert_exporter": "python",
   "pygments_lexer": "ipython3",
   "version": "3.6.12"
  }
 },
 "nbformat": 4,
 "nbformat_minor": 4
}
